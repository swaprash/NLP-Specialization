{
  "nbformat": 4,
  "nbformat_minor": 0,
  "metadata": {
    "colab": {
      "name": "Custom_NER_Spacy.ipynb",
      "provenance": [],
      "authorship_tag": "ABX9TyOI6OkmGqHI0iKqZL0BFfkz"
    },
    "kernelspec": {
      "name": "python3",
      "display_name": "Python 3"
    }
  },
  "cells": [
    {
      "cell_type": "code",
      "metadata": {
        "id": "nNiQfI86og_m",
        "colab_type": "code",
        "colab": {}
      },
      "source": [
        "\n",
        "import random\n",
        "from tqdm import tqdm\n",
        "from pathlib import Path\n",
        "import random \n",
        "import spacy"
      ],
      "execution_count": 104,
      "outputs": []
    },
    {
      "cell_type": "code",
      "metadata": {
        "id": "QZ-Mr8J9vkmu",
        "colab_type": "code",
        "colab": {
          "base_uri": "https://localhost:8080/",
          "height": 428
        },
        "outputId": "f0431a01-a79c-4580-fa5a-69b0f5897a59"
      },
      "source": [
        "! python -m spacy download en_core_web_sm"
      ],
      "execution_count": 2,
      "outputs": [
        {
          "output_type": "stream",
          "text": [
            "Requirement already satisfied: en_core_web_sm==2.2.5 from https://github.com/explosion/spacy-models/releases/download/en_core_web_sm-2.2.5/en_core_web_sm-2.2.5.tar.gz#egg=en_core_web_sm==2.2.5 in /usr/local/lib/python3.6/dist-packages (2.2.5)\n",
            "Requirement already satisfied: spacy>=2.2.2 in /usr/local/lib/python3.6/dist-packages (from en_core_web_sm==2.2.5) (2.2.4)\n",
            "Requirement already satisfied: cymem<2.1.0,>=2.0.2 in /usr/local/lib/python3.6/dist-packages (from spacy>=2.2.2->en_core_web_sm==2.2.5) (2.0.3)\n",
            "Requirement already satisfied: tqdm<5.0.0,>=4.38.0 in /usr/local/lib/python3.6/dist-packages (from spacy>=2.2.2->en_core_web_sm==2.2.5) (4.41.1)\n",
            "Requirement already satisfied: numpy>=1.15.0 in /usr/local/lib/python3.6/dist-packages (from spacy>=2.2.2->en_core_web_sm==2.2.5) (1.18.5)\n",
            "Requirement already satisfied: murmurhash<1.1.0,>=0.28.0 in /usr/local/lib/python3.6/dist-packages (from spacy>=2.2.2->en_core_web_sm==2.2.5) (1.0.2)\n",
            "Requirement already satisfied: catalogue<1.1.0,>=0.0.7 in /usr/local/lib/python3.6/dist-packages (from spacy>=2.2.2->en_core_web_sm==2.2.5) (1.0.0)\n",
            "Requirement already satisfied: blis<0.5.0,>=0.4.0 in /usr/local/lib/python3.6/dist-packages (from spacy>=2.2.2->en_core_web_sm==2.2.5) (0.4.1)\n",
            "Requirement already satisfied: setuptools in /usr/local/lib/python3.6/dist-packages (from spacy>=2.2.2->en_core_web_sm==2.2.5) (49.6.0)\n",
            "Requirement already satisfied: preshed<3.1.0,>=3.0.2 in /usr/local/lib/python3.6/dist-packages (from spacy>=2.2.2->en_core_web_sm==2.2.5) (3.0.2)\n",
            "Requirement already satisfied: thinc==7.4.0 in /usr/local/lib/python3.6/dist-packages (from spacy>=2.2.2->en_core_web_sm==2.2.5) (7.4.0)\n",
            "Requirement already satisfied: plac<1.2.0,>=0.9.6 in /usr/local/lib/python3.6/dist-packages (from spacy>=2.2.2->en_core_web_sm==2.2.5) (1.1.3)\n",
            "Requirement already satisfied: wasabi<1.1.0,>=0.4.0 in /usr/local/lib/python3.6/dist-packages (from spacy>=2.2.2->en_core_web_sm==2.2.5) (0.7.1)\n",
            "Requirement already satisfied: requests<3.0.0,>=2.13.0 in /usr/local/lib/python3.6/dist-packages (from spacy>=2.2.2->en_core_web_sm==2.2.5) (2.23.0)\n",
            "Requirement already satisfied: srsly<1.1.0,>=1.0.2 in /usr/local/lib/python3.6/dist-packages (from spacy>=2.2.2->en_core_web_sm==2.2.5) (1.0.2)\n",
            "Requirement already satisfied: importlib-metadata>=0.20; python_version < \"3.8\" in /usr/local/lib/python3.6/dist-packages (from catalogue<1.1.0,>=0.0.7->spacy>=2.2.2->en_core_web_sm==2.2.5) (1.7.0)\n",
            "Requirement already satisfied: chardet<4,>=3.0.2 in /usr/local/lib/python3.6/dist-packages (from requests<3.0.0,>=2.13.0->spacy>=2.2.2->en_core_web_sm==2.2.5) (3.0.4)\n",
            "Requirement already satisfied: certifi>=2017.4.17 in /usr/local/lib/python3.6/dist-packages (from requests<3.0.0,>=2.13.0->spacy>=2.2.2->en_core_web_sm==2.2.5) (2020.6.20)\n",
            "Requirement already satisfied: urllib3!=1.25.0,!=1.25.1,<1.26,>=1.21.1 in /usr/local/lib/python3.6/dist-packages (from requests<3.0.0,>=2.13.0->spacy>=2.2.2->en_core_web_sm==2.2.5) (1.24.3)\n",
            "Requirement already satisfied: idna<3,>=2.5 in /usr/local/lib/python3.6/dist-packages (from requests<3.0.0,>=2.13.0->spacy>=2.2.2->en_core_web_sm==2.2.5) (2.10)\n",
            "Requirement already satisfied: zipp>=0.5 in /usr/local/lib/python3.6/dist-packages (from importlib-metadata>=0.20; python_version < \"3.8\"->catalogue<1.1.0,>=0.0.7->spacy>=2.2.2->en_core_web_sm==2.2.5) (3.1.0)\n",
            "\u001b[38;5;2m✔ Download and installation successful\u001b[0m\n",
            "You can now load the model via spacy.load('en_core_web_sm')\n"
          ],
          "name": "stdout"
        }
      ]
    },
    {
      "cell_type": "code",
      "metadata": {
        "id": "_Bc66n9zws_j",
        "colab_type": "code",
        "colab": {}
      },
      "source": [
        "#TRAIN_DATA = [\n",
        " # (u\"My name is swapnil vishwasrao \", {'entities': [ (11,29,'NAME') ] }),\n",
        "  #(u\"Introduction to Elasticsearch by Radu \", {'entities': [ (16,29,'TECH'), (33, 37, 'NAME') ] }),\n",
        "  #(u\"My account number is J786524\",{'entities':[(21,28,'IDNUM')]}),\n",
        "  #(u\"account H564829\",{'entities':[(8,15,'IDNUM')]}),\n",
        "  #(u\"My date of birth is 9th November 1988\",{'entities':[(20,37,'DOB')]})\n",
        "  \n"
      ],
      "execution_count": 3,
      "outputs": []
    },
    {
      "cell_type": "code",
      "metadata": {
        "id": "8BB51JWvUeAC",
        "colab_type": "code",
        "colab": {}
      },
      "source": [
        "st=\"My name is John Spencer. My account number is H457320 and my date of birth is 25th of September 1959, I’d like to review my last invoice.\""
      ],
      "execution_count": 10,
      "outputs": []
    },
    {
      "cell_type": "code",
      "metadata": {
        "id": "_LvgrPyeUdt_",
        "colab_type": "code",
        "colab": {
          "base_uri": "https://localhost:8080/",
          "height": 35
        },
        "outputId": "d233b934-9302-42a6-8412-43810f4994ae"
      },
      "source": [
        "st[96]"
      ],
      "execution_count": 83,
      "outputs": [
        {
          "output_type": "execute_result",
          "data": {
            "application/vnd.google.colaboratory.intrinsic+json": {
              "type": "string"
            },
            "text/plain": [
              "'1'"
            ]
          },
          "metadata": {
            "tags": []
          },
          "execution_count": 83
        }
      ]
    },
    {
      "cell_type": "code",
      "metadata": {
        "id": "HpduWbepRxLw",
        "colab_type": "code",
        "colab": {}
      },
      "source": [
        "TRAIN_DATA=[(u\"My name is John Spencer. My account number is H457320 and my date of birth is 25th of September 1959, I’d like to review my last invoice.\",\n",
        "             {'entities':[(11,23,'NAME'),(46,53,'IDNUM'),(78,100,'DOB')]})]"
      ],
      "execution_count": 92,
      "outputs": []
    },
    {
      "cell_type": "code",
      "metadata": {
        "id": "ClOK7bSM3j3f",
        "colab_type": "code",
        "colab": {}
      },
      "source": [
        "model=None\n",
        "output_dir=Path(\"/content/sample_data\")\n",
        "n_iter=100"
      ],
      "execution_count": 93,
      "outputs": []
    },
    {
      "cell_type": "code",
      "metadata": {
        "id": "2IkzXvQv4pSv",
        "colab_type": "code",
        "colab": {
          "base_uri": "https://localhost:8080/",
          "height": 34
        },
        "outputId": "256dc6e1-21d4-4a89-9d7a-c2d403ca526f"
      },
      "source": [
        "if model is not None:\n",
        "  nlp=spacy.load(model)\n",
        "  print('Existing spacy model loaded')\n",
        "else:\n",
        "  nlp=spacy.blank('en')\n",
        "  print('Created blank en model')\n"
      ],
      "execution_count": 94,
      "outputs": [
        {
          "output_type": "stream",
          "text": [
            "Created blank en model\n"
          ],
          "name": "stdout"
        }
      ]
    },
    {
      "cell_type": "code",
      "metadata": {
        "id": "y6pPJb4y5MdG",
        "colab_type": "code",
        "colab": {}
      },
      "source": [
        "if 'ner' not in nlp.pipe_names:\n",
        "  ner=nlp.create_pipe('ner')\n",
        "  nlp.add_pipe(ner,last=True)\n",
        "else:\n",
        "  ner=nlp.get_pipe('ner')"
      ],
      "execution_count": 95,
      "outputs": []
    },
    {
      "cell_type": "code",
      "metadata": {
        "id": "7vsdQ7vvMlgc",
        "colab_type": "code",
        "colab": {
          "base_uri": "https://localhost:8080/",
          "height": 34
        },
        "outputId": "a87e37f1-6052-46f8-eaba-18ded3bd59e4"
      },
      "source": [
        "len(TRAIN_DATA)"
      ],
      "execution_count": 96,
      "outputs": [
        {
          "output_type": "execute_result",
          "data": {
            "text/plain": [
              "1"
            ]
          },
          "metadata": {
            "tags": []
          },
          "execution_count": 96
        }
      ]
    },
    {
      "cell_type": "code",
      "metadata": {
        "id": "p7hmBNLZGpCb",
        "colab_type": "code",
        "colab": {}
      },
      "source": [
        "for _,annotations in TRAIN_DATA:\n",
        "\n",
        "  for ent in annotations.get('entities'):\n",
        "\n",
        "    ner.add_label(ent[2])\n",
        "  \n",
        "      \n",
        "\n"
      ],
      "execution_count": 97,
      "outputs": []
    },
    {
      "cell_type": "code",
      "metadata": {
        "id": "jqsXsBLh8l1s",
        "colab_type": "code",
        "colab": {
          "base_uri": "https://localhost:8080/",
          "height": 1000
        },
        "outputId": "69c71540-86aa-4003-a510-35178f05bf2a"
      },
      "source": [
        "\n",
        "other_pipes=[pipe for pipe in nlp.pipe_names if pipe != 'ner']\n",
        "with nlp.disable_pipes(*other_pipes):\n",
        "  optimizer=nlp.begin_training()\n",
        "  for i in range(n_iter):\n",
        "    random.shuffle(TRAIN_DATA)\n",
        "    lossess={}\n",
        "    for text,annotations in tqdm(TRAIN_DATA):\n",
        "      nlp.update([text],[annotations],drop=0.5,sgd=optimizer,losses=lossess)\n",
        "    print(lossess)"
      ],
      "execution_count": 98,
      "outputs": [
        {
          "output_type": "stream",
          "text": [
            "100%|██████████| 1/1 [00:00<00:00, 13.92it/s]\n",
            "100%|██████████| 1/1 [00:00<00:00, 17.59it/s]\n",
            "100%|██████████| 1/1 [00:00<00:00, 18.83it/s]\n",
            "100%|██████████| 1/1 [00:00<00:00, 17.21it/s]\n",
            "  0%|          | 0/1 [00:00<?, ?it/s]"
          ],
          "name": "stderr"
        },
        {
          "output_type": "stream",
          "text": [
            "{'ner': 28.785711646080017}\n",
            "{'ner': 26.761766970157623}\n",
            "{'ner': 27.325469732284546}\n",
            "{'ner': 26.736314594745636}\n"
          ],
          "name": "stdout"
        },
        {
          "output_type": "stream",
          "text": [
            "100%|██████████| 1/1 [00:00<00:00, 18.20it/s]\n",
            "100%|██████████| 1/1 [00:00<00:00, 16.65it/s]\n",
            "100%|██████████| 1/1 [00:00<00:00, 16.64it/s]\n",
            "100%|██████████| 1/1 [00:00<00:00, 16.54it/s]\n",
            "  0%|          | 0/1 [00:00<?, ?it/s]"
          ],
          "name": "stderr"
        },
        {
          "output_type": "stream",
          "text": [
            "{'ner': 24.875212013721466}\n",
            "{'ner': 23.820713222026825}\n",
            "{'ner': 21.464495182037354}\n",
            "{'ner': 20.16969183087349}\n"
          ],
          "name": "stdout"
        },
        {
          "output_type": "stream",
          "text": [
            "100%|██████████| 1/1 [00:00<00:00, 16.94it/s]\n",
            "100%|██████████| 1/1 [00:00<00:00, 18.01it/s]\n",
            "100%|██████████| 1/1 [00:00<00:00, 17.52it/s]\n",
            "100%|██████████| 1/1 [00:00<00:00, 16.34it/s]\n",
            "  0%|          | 0/1 [00:00<?, ?it/s]"
          ],
          "name": "stderr"
        },
        {
          "output_type": "stream",
          "text": [
            "{'ner': 18.129224210977554}\n",
            "{'ner': 14.999726615846157}\n",
            "{'ner': 15.531379669904709}\n",
            "{'ner': 12.88543877005577}\n"
          ],
          "name": "stdout"
        },
        {
          "output_type": "stream",
          "text": [
            "100%|██████████| 1/1 [00:00<00:00, 16.16it/s]\n",
            "100%|██████████| 1/1 [00:00<00:00, 17.30it/s]\n",
            "100%|██████████| 1/1 [00:00<00:00, 17.82it/s]\n",
            "100%|██████████| 1/1 [00:00<00:00, 17.76it/s]\n",
            "  0%|          | 0/1 [00:00<?, ?it/s]"
          ],
          "name": "stderr"
        },
        {
          "output_type": "stream",
          "text": [
            "{'ner': 11.11894165724516}\n",
            "{'ner': 9.11058690585196}\n",
            "{'ner': 5.37061928701587}\n",
            "{'ner': 7.034094013259164}\n"
          ],
          "name": "stdout"
        },
        {
          "output_type": "stream",
          "text": [
            "100%|██████████| 1/1 [00:00<00:00, 15.95it/s]\n",
            "100%|██████████| 1/1 [00:00<00:00, 18.36it/s]\n",
            "100%|██████████| 1/1 [00:00<00:00, 17.04it/s]\n",
            "100%|██████████| 1/1 [00:00<00:00, 16.34it/s]\n",
            "  0%|          | 0/1 [00:00<?, ?it/s]"
          ],
          "name": "stderr"
        },
        {
          "output_type": "stream",
          "text": [
            "{'ner': 7.261148527497426}\n",
            "{'ner': 5.3357251131565135}\n",
            "{'ner': 6.05600037090835}\n",
            "{'ner': 5.806934438074933}\n"
          ],
          "name": "stdout"
        },
        {
          "output_type": "stream",
          "text": [
            "100%|██████████| 1/1 [00:00<00:00, 14.85it/s]\n",
            "100%|██████████| 1/1 [00:00<00:00, 17.62it/s]\n",
            "100%|██████████| 1/1 [00:00<00:00, 17.84it/s]\n",
            "100%|██████████| 1/1 [00:00<00:00, 17.24it/s]\n",
            "  0%|          | 0/1 [00:00<?, ?it/s]"
          ],
          "name": "stderr"
        },
        {
          "output_type": "stream",
          "text": [
            "{'ner': 5.714240176006797}\n",
            "{'ner': 5.9191346483835865}\n",
            "{'ner': 5.65602801730563}\n",
            "{'ner': 5.863979531794598}\n"
          ],
          "name": "stdout"
        },
        {
          "output_type": "stream",
          "text": [
            "100%|██████████| 1/1 [00:00<00:00, 16.24it/s]\n",
            "100%|██████████| 1/1 [00:00<00:00, 17.76it/s]\n",
            "100%|██████████| 1/1 [00:00<00:00, 15.71it/s]\n",
            "100%|██████████| 1/1 [00:00<00:00, 16.59it/s]\n",
            "  0%|          | 0/1 [00:00<?, ?it/s]"
          ],
          "name": "stderr"
        },
        {
          "output_type": "stream",
          "text": [
            "{'ner': 5.789781571172739}\n",
            "{'ner': 5.523199610639608}\n",
            "{'ner': 5.708139022011892}\n",
            "{'ner': 5.157974530064166}\n"
          ],
          "name": "stdout"
        },
        {
          "output_type": "stream",
          "text": [
            "100%|██████████| 1/1 [00:00<00:00, 16.15it/s]\n",
            "100%|██████████| 1/1 [00:00<00:00, 17.38it/s]\n",
            "100%|██████████| 1/1 [00:00<00:00, 17.29it/s]\n",
            "100%|██████████| 1/1 [00:00<00:00, 19.18it/s]\n",
            "  0%|          | 0/1 [00:00<?, ?it/s]"
          ],
          "name": "stderr"
        },
        {
          "output_type": "stream",
          "text": [
            "{'ner': 5.02596294914656}\n",
            "{'ner': 4.382766038825139}\n",
            "{'ner': 4.336489902278117}\n",
            "{'ner': 4.445034952805145}\n"
          ],
          "name": "stdout"
        },
        {
          "output_type": "stream",
          "text": [
            "100%|██████████| 1/1 [00:00<00:00, 16.39it/s]\n",
            "100%|██████████| 1/1 [00:00<00:00, 17.81it/s]\n",
            "100%|██████████| 1/1 [00:00<00:00, 16.34it/s]\n",
            "100%|██████████| 1/1 [00:00<00:00, 17.23it/s]\n",
            "  0%|          | 0/1 [00:00<?, ?it/s]"
          ],
          "name": "stderr"
        },
        {
          "output_type": "stream",
          "text": [
            "{'ner': 4.237842715385341}\n",
            "{'ner': 2.9592790754431917}\n",
            "{'ner': 3.483592539851088}\n",
            "{'ner': 3.314665058380342}\n"
          ],
          "name": "stdout"
        },
        {
          "output_type": "stream",
          "text": [
            "100%|██████████| 1/1 [00:00<00:00, 15.61it/s]\n",
            "100%|██████████| 1/1 [00:00<00:00, 17.52it/s]\n",
            "100%|██████████| 1/1 [00:00<00:00, 17.28it/s]\n",
            "100%|██████████| 1/1 [00:00<00:00, 17.50it/s]\n",
            "  0%|          | 0/1 [00:00<?, ?it/s]"
          ],
          "name": "stderr"
        },
        {
          "output_type": "stream",
          "text": [
            "{'ner': 3.6317180578189436}\n",
            "{'ner': 4.564854487078264}\n",
            "{'ner': 3.105615030432091}\n",
            "{'ner': 3.038708684239168}\n"
          ],
          "name": "stdout"
        },
        {
          "output_type": "stream",
          "text": [
            "100%|██████████| 1/1 [00:00<00:00, 16.96it/s]\n",
            "100%|██████████| 1/1 [00:00<00:00, 18.16it/s]\n",
            "100%|██████████| 1/1 [00:00<00:00, 17.85it/s]\n",
            "100%|██████████| 1/1 [00:00<00:00, 17.89it/s]\n",
            "  0%|          | 0/1 [00:00<?, ?it/s]"
          ],
          "name": "stderr"
        },
        {
          "output_type": "stream",
          "text": [
            "{'ner': 3.1098850875023487}\n",
            "{'ner': 3.5595103976569398}\n",
            "{'ner': 4.736791590242774}\n",
            "{'ner': 4.220021349359229}\n"
          ],
          "name": "stdout"
        },
        {
          "output_type": "stream",
          "text": [
            "100%|██████████| 1/1 [00:00<00:00, 16.50it/s]\n",
            "100%|██████████| 1/1 [00:00<00:00, 18.36it/s]\n",
            "100%|██████████| 1/1 [00:00<00:00, 17.64it/s]\n",
            "100%|██████████| 1/1 [00:00<00:00, 17.44it/s]\n",
            "  0%|          | 0/1 [00:00<?, ?it/s]"
          ],
          "name": "stderr"
        },
        {
          "output_type": "stream",
          "text": [
            "{'ner': 4.711311180521989}\n",
            "{'ner': 4.775074949783092}\n",
            "{'ner': 3.7105473987282664}\n",
            "{'ner': 6.171601220015276}\n"
          ],
          "name": "stdout"
        },
        {
          "output_type": "stream",
          "text": [
            "100%|██████████| 1/1 [00:00<00:00, 16.83it/s]\n",
            "100%|██████████| 1/1 [00:00<00:00, 16.68it/s]\n",
            "100%|██████████| 1/1 [00:00<00:00, 15.38it/s]\n",
            "100%|██████████| 1/1 [00:00<00:00, 18.18it/s]\n",
            "  0%|          | 0/1 [00:00<?, ?it/s]"
          ],
          "name": "stderr"
        },
        {
          "output_type": "stream",
          "text": [
            "{'ner': 6.946647141835635}\n",
            "{'ner': 3.842197371269357}\n",
            "{'ner': 4.639282525181575}\n",
            "{'ner': 4.274578677036352}\n"
          ],
          "name": "stdout"
        },
        {
          "output_type": "stream",
          "text": [
            "100%|██████████| 1/1 [00:00<00:00, 15.84it/s]\n",
            "100%|██████████| 1/1 [00:00<00:00, 17.70it/s]\n",
            "100%|██████████| 1/1 [00:00<00:00, 17.86it/s]\n",
            "100%|██████████| 1/1 [00:00<00:00, 17.53it/s]\n",
            "  0%|          | 0/1 [00:00<?, ?it/s]"
          ],
          "name": "stderr"
        },
        {
          "output_type": "stream",
          "text": [
            "{'ner': 4.500077747784623}\n",
            "{'ner': 4.057857191218984}\n",
            "{'ner': 21.37496120317098}\n",
            "{'ner': 13.352887938542011}\n"
          ],
          "name": "stdout"
        },
        {
          "output_type": "stream",
          "text": [
            "100%|██████████| 1/1 [00:00<00:00, 16.77it/s]\n",
            "100%|██████████| 1/1 [00:00<00:00, 17.01it/s]\n",
            "100%|██████████| 1/1 [00:00<00:00, 17.75it/s]\n",
            "100%|██████████| 1/1 [00:00<00:00, 17.47it/s]\n",
            "  0%|          | 0/1 [00:00<?, ?it/s]"
          ],
          "name": "stderr"
        },
        {
          "output_type": "stream",
          "text": [
            "{'ner': 4.907668285912367}\n",
            "{'ner': 12.555211989751552}\n",
            "{'ner': 8.874023998553769}\n",
            "{'ner': 15.71033813831346}\n"
          ],
          "name": "stdout"
        },
        {
          "output_type": "stream",
          "text": [
            "100%|██████████| 1/1 [00:00<00:00, 16.45it/s]\n",
            "100%|██████████| 1/1 [00:00<00:00, 16.51it/s]\n",
            "100%|██████████| 1/1 [00:00<00:00, 17.20it/s]\n",
            "100%|██████████| 1/1 [00:00<00:00, 18.09it/s]\n",
            "  0%|          | 0/1 [00:00<?, ?it/s]"
          ],
          "name": "stderr"
        },
        {
          "output_type": "stream",
          "text": [
            "{'ner': 22.09868574673028}\n",
            "{'ner': 12.332133892648386}\n",
            "{'ner': 5.92865184951895}\n",
            "{'ner': 13.454942329537573}\n"
          ],
          "name": "stdout"
        },
        {
          "output_type": "stream",
          "text": [
            "100%|██████████| 1/1 [00:00<00:00, 15.39it/s]\n",
            "100%|██████████| 1/1 [00:00<00:00, 17.06it/s]\n",
            "100%|██████████| 1/1 [00:00<00:00, 17.14it/s]\n",
            "100%|██████████| 1/1 [00:00<00:00, 18.13it/s]\n",
            "  0%|          | 0/1 [00:00<?, ?it/s]"
          ],
          "name": "stderr"
        },
        {
          "output_type": "stream",
          "text": [
            "{'ner': 7.036563272508816}\n",
            "{'ner': 4.252516374320362}\n",
            "{'ner': 9.711882060247689}\n",
            "{'ner': 16.718302374286985}\n"
          ],
          "name": "stdout"
        },
        {
          "output_type": "stream",
          "text": [
            "100%|██████████| 1/1 [00:00<00:00, 16.63it/s]\n",
            "100%|██████████| 1/1 [00:00<00:00, 17.36it/s]\n",
            "100%|██████████| 1/1 [00:00<00:00, 17.98it/s]\n",
            "100%|██████████| 1/1 [00:00<00:00, 17.53it/s]\n",
            "  0%|          | 0/1 [00:00<?, ?it/s]"
          ],
          "name": "stderr"
        },
        {
          "output_type": "stream",
          "text": [
            "{'ner': 7.55371068969216}\n",
            "{'ner': 17.69494248830849}\n",
            "{'ner': 7.397366631687721}\n",
            "{'ner': 5.1009133879496}\n"
          ],
          "name": "stdout"
        },
        {
          "output_type": "stream",
          "text": [
            "100%|██████████| 1/1 [00:00<00:00, 17.11it/s]\n",
            "100%|██████████| 1/1 [00:00<00:00, 18.39it/s]\n",
            "100%|██████████| 1/1 [00:00<00:00, 18.30it/s]\n",
            "100%|██████████| 1/1 [00:00<00:00, 18.24it/s]\n",
            "  0%|          | 0/1 [00:00<?, ?it/s]"
          ],
          "name": "stderr"
        },
        {
          "output_type": "stream",
          "text": [
            "{'ner': 5.669496730592414}\n",
            "{'ner': 6.843120083337401}\n",
            "{'ner': 4.265062323266741}\n",
            "{'ner': 4.360062916647001}\n"
          ],
          "name": "stdout"
        },
        {
          "output_type": "stream",
          "text": [
            "100%|██████████| 1/1 [00:00<00:00, 14.91it/s]\n",
            "100%|██████████| 1/1 [00:00<00:00, 17.08it/s]\n",
            "100%|██████████| 1/1 [00:00<00:00, 18.03it/s]\n",
            "100%|██████████| 1/1 [00:00<00:00, 17.52it/s]\n",
            "  0%|          | 0/1 [00:00<?, ?it/s]"
          ],
          "name": "stderr"
        },
        {
          "output_type": "stream",
          "text": [
            "{'ner': 11.878925577566406}\n",
            "{'ner': 5.181941062265423}\n",
            "{'ner': 17.226806031466026}\n",
            "{'ner': 7.572068679272718}\n"
          ],
          "name": "stdout"
        },
        {
          "output_type": "stream",
          "text": [
            "100%|██████████| 1/1 [00:00<00:00, 14.14it/s]\n",
            "100%|██████████| 1/1 [00:00<00:00, 17.55it/s]\n",
            "100%|██████████| 1/1 [00:00<00:00, 18.36it/s]\n",
            "100%|██████████| 1/1 [00:00<00:00, 18.18it/s]\n",
            "  0%|          | 0/1 [00:00<?, ?it/s]"
          ],
          "name": "stderr"
        },
        {
          "output_type": "stream",
          "text": [
            "{'ner': 7.569956894438178}\n",
            "{'ner': 2.7106420485854414}\n",
            "{'ner': 2.5349524763983027}\n",
            "{'ner': 7.747850206875846}\n"
          ],
          "name": "stdout"
        },
        {
          "output_type": "stream",
          "text": [
            "100%|██████████| 1/1 [00:00<00:00, 17.70it/s]\n",
            "100%|██████████| 1/1 [00:00<00:00, 15.03it/s]\n",
            "100%|██████████| 1/1 [00:00<00:00, 21.28it/s]\n",
            "100%|██████████| 1/1 [00:00<00:00, 16.63it/s]\n",
            "  0%|          | 0/1 [00:00<?, ?it/s]"
          ],
          "name": "stderr"
        },
        {
          "output_type": "stream",
          "text": [
            "{'ner': 4.318468096904141}\n",
            "{'ner': 3.0917956361150525}\n",
            "{'ner': 6.421338762022742}\n",
            "{'ner': 4.834107000530573}\n"
          ],
          "name": "stdout"
        },
        {
          "output_type": "stream",
          "text": [
            "100%|██████████| 1/1 [00:00<00:00, 16.93it/s]\n",
            "100%|██████████| 1/1 [00:00<00:00, 17.90it/s]\n",
            "100%|██████████| 1/1 [00:00<00:00, 16.90it/s]\n",
            "100%|██████████| 1/1 [00:00<00:00, 18.13it/s]\n",
            "  0%|          | 0/1 [00:00<?, ?it/s]"
          ],
          "name": "stderr"
        },
        {
          "output_type": "stream",
          "text": [
            "{'ner': 7.75213798948198}\n",
            "{'ner': 2.525710751377577}\n",
            "{'ner': 5.990938556261199}\n",
            "{'ner': 6.189633386575292}\n"
          ],
          "name": "stdout"
        },
        {
          "output_type": "stream",
          "text": [
            "100%|██████████| 1/1 [00:00<00:00, 16.31it/s]\n",
            "100%|██████████| 1/1 [00:00<00:00, 16.90it/s]\n",
            "100%|██████████| 1/1 [00:00<00:00, 17.27it/s]\n",
            "100%|██████████| 1/1 [00:00<00:00, 15.67it/s]\n",
            "  0%|          | 0/1 [00:00<?, ?it/s]"
          ],
          "name": "stderr"
        },
        {
          "output_type": "stream",
          "text": [
            "{'ner': 5.399289064606507}\n",
            "{'ner': 11.38965836751194}\n",
            "{'ner': 8.817776155730762}\n",
            "{'ner': 6.290438590499985}\n"
          ],
          "name": "stdout"
        },
        {
          "output_type": "stream",
          "text": [
            "100%|██████████| 1/1 [00:00<00:00, 16.92it/s]\n",
            "100%|██████████| 1/1 [00:00<00:00, 20.17it/s]\n",
            "100%|██████████| 1/1 [00:00<00:00, 18.14it/s]\n",
            "100%|██████████| 1/1 [00:00<00:00, 17.75it/s]"
          ],
          "name": "stderr"
        },
        {
          "output_type": "stream",
          "text": [
            "{'ner': 3.8821857980729675}\n",
            "{'ner': 3.63246859159947}\n",
            "{'ner': 5.582372727633533}\n",
            "{'ner': 3.559496759831189}\n"
          ],
          "name": "stdout"
        },
        {
          "output_type": "stream",
          "text": [
            "\n"
          ],
          "name": "stderr"
        }
      ]
    },
    {
      "cell_type": "code",
      "metadata": {
        "id": "5hbUo8hD-txh",
        "colab_type": "code",
        "colab": {
          "base_uri": "https://localhost:8080/",
          "height": 34
        },
        "outputId": "3de09d1d-1762-42b6-f511-abc329384693"
      },
      "source": [
        "for text,_ in TRAIN_DATA:\n",
        "  doc=nlp(text)\n",
        "  print('entities',[(ent.text,ent.label_) for ent in doc.ents])"
      ],
      "execution_count": 99,
      "outputs": [
        {
          "output_type": "stream",
          "text": [
            "entities [('John Spencer', 'NAME'), ('H457320', 'IDNUM'), ('25th of September 1959,', 'DOB')]\n"
          ],
          "name": "stdout"
        }
      ]
    },
    {
      "cell_type": "code",
      "metadata": {
        "id": "nawcdEfeB714",
        "colab_type": "code",
        "colab": {
          "base_uri": "https://localhost:8080/",
          "height": 34
        },
        "outputId": "79743c55-a3cc-467f-c873-7e9899f5a5cd"
      },
      "source": [
        "if output_dir is not None:\n",
        "  output_dir=Path(\"/content/sample_data\")\n",
        "  if not output_dir.exists():\n",
        "    output_dir.mkdir()\n",
        "  nlp.to_disk(output_dir)\n",
        "  print('Save model to',output_dir)"
      ],
      "execution_count": 100,
      "outputs": [
        {
          "output_type": "stream",
          "text": [
            "Save model to /content/sample_data\n"
          ],
          "name": "stdout"
        }
      ]
    },
    {
      "cell_type": "code",
      "metadata": {
        "id": "s85ZtrNzC8SI",
        "colab_type": "code",
        "colab": {
          "base_uri": "https://localhost:8080/",
          "height": 51
        },
        "outputId": "8d611783-32aa-4ce7-8360-3980719657c8"
      },
      "source": [
        "print('loading from',output_dir)\n",
        "nlp2=spacy.load(output_dir)\n",
        "for text,_ in TRAIN_DATA:\n",
        "  doc2=nlp2(text)\n",
        "  print('entities',[(ent.text,ent.label_) for ent in doc2.ents])\n",
        "  \n"
      ],
      "execution_count": 101,
      "outputs": [
        {
          "output_type": "stream",
          "text": [
            "loading from /content/sample_data\n",
            "entities [('John Spencer', 'NAME'), ('H457320', 'IDNUM'), ('25th of September 1959,', 'DOB')]\n"
          ],
          "name": "stdout"
        }
      ]
    },
    {
      "cell_type": "code",
      "metadata": {
        "id": "Bg66N1_5Qiw3",
        "colab_type": "code",
        "colab": {}
      },
      "source": [
        "doc3=nlp2(u\"My name is John Spencer. My account number is H457320 and my date of birth is 25th of September 1959, I’d like to review my last invoice.\")"
      ],
      "execution_count": 102,
      "outputs": []
    },
    {
      "cell_type": "code",
      "metadata": {
        "id": "dRGPfYhcQ46V",
        "colab_type": "code",
        "colab": {
          "base_uri": "https://localhost:8080/",
          "height": 68
        },
        "outputId": "b5c248af-76a4-4bda-94ca-c33789a4085c"
      },
      "source": [
        "for entity in doc3.ents:\n",
        "  print(entity.text,entity.label_)"
      ],
      "execution_count": 103,
      "outputs": [
        {
          "output_type": "stream",
          "text": [
            "John Spencer NAME\n",
            "H457320 IDNUM\n",
            "25th of September 1959, DOB\n"
          ],
          "name": "stdout"
        }
      ]
    },
    {
      "cell_type": "code",
      "metadata": {
        "id": "KyOVQfbvROd_",
        "colab_type": "code",
        "colab": {}
      },
      "source": [
        ""
      ],
      "execution_count": null,
      "outputs": []
    }
  ]
}